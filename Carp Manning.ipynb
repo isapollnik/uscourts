{
  "cells": [
    {
      "cell_type": "code",
      "execution_count": 10,
      "metadata": {
        "collapsed": true,
        "pycharm": {
          "is_executing": false
        }
      },
      "outputs": [],
      "source": "import pandas as pd\nimport os\n"
    },
    {
      "cell_type": "code",
      "execution_count": 11,
      "outputs": [],
      "source": "dataDir \u003d r\u0027C:\\Users\\Ian\\Dropbox\\ECON 407 - US Courts \u0026 Judges\u0027\n",
      "metadata": {
        "pycharm": {
          "metadata": false,
          "name": "#%%\n",
          "is_executing": false
        }
      }
    },
    {
      "cell_type": "code",
      "execution_count": 12,
      "outputs": [],
      "source": "cm_data \u003d pd.read_csv(os.path.join(dataDir,r\u0027Carp-Manning.csv\u0027))\ncm_data \u003d cm_data.rename(columns \u003d {\u0027judge\u0027:\u0027Authoring Judge\u0027,\u0027crtpoint\u0027:\u0027Court Location\u0027,\n                          \u0027numjudge\u0027:\u0027Number of Judges\u0027,\u0027circuit\u0027:\u0027Circuit\u0027,\n                          \u0027state\u0027:\u0027State\u0027,\u0027statdist\u0027:\u0027District\u0027,\u0027month\u0027:\u0027Month\u0027,\n                          \u0027year\u0027:\u0027Year\u0027,\u0027libcon\u0027:\u0027Decision Ideology\u0027,\n                          \u0027casetype\u0027:\u0027Case Type\u0027,\u0027category\u0027:\u0027Case Category\u0027,\n                          \u0027casnum\u0027:\u0027Case Number\u0027,\u0027apyear\u0027:\u0027Year of Appointment\u0027,\n                          \u0027appres\u0027:\u0027Appointing President\u0027,\u0027party\u0027:\u0027Judge Party\u0027,\n                          \u0027gender\u0027:\u0027Gender\u0027,\u0027race\u0027:\u0027Race\u0027})\n\n",
      "metadata": {
        "pycharm": {
          "metadata": false,
          "name": "#%%\n",
          "is_executing": false
        }
      }
    },
    {
      "cell_type": "code",
      "execution_count": 13,
      "outputs": [],
      "source": "cm_data.to_csv(os.path.join(dataDir,\u0027Carp Manning Clean.csv\u0027), index \u003d False)\n",
      "metadata": {
        "pycharm": {
          "metadata": false,
          "name": "#%%\n",
          "is_executing": false
        }
      }
    },
    {
      "cell_type": "code",
      "execution_count": null,
      "outputs": [],
      "source": "\n",
      "metadata": {
        "pycharm": {
          "metadata": false,
          "name": "#%%\n"
        }
      }
    }
  ],
  "metadata": {
    "language_info": {
      "codemirror_mode": {
        "name": "ipython",
        "version": 2
      },
      "file_extension": ".py",
      "mimetype": "text/x-python",
      "name": "python",
      "nbconvert_exporter": "python",
      "pygments_lexer": "ipython2",
      "version": "2.7.6"
    },
    "kernelspec": {
      "name": "python3",
      "language": "python",
      "display_name": "Python 3"
    }
  },
  "nbformat": 4,
  "nbformat_minor": 0
}