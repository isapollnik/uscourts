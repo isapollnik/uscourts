{
 "cells": [
  {
   "cell_type": "code",
   "execution_count": 1,
   "metadata": {
    "collapsed": true,
    "pycharm": {
     "is_executing": false
    }
   },
   "outputs": [],
   "source": [
    "import pandas as pd\n",
    "import os\n"
   ]
  },
  {
   "cell_type": "code",
   "execution_count": 3,
   "metadata": {
    "pycharm": {
     "is_executing": false,
     "metadata": false,
     "name": "#%%\n"
    }
   },
   "outputs": [],
   "source": [
    "dataDir = r'C:\\Users\\Ian\\Dropbox\\ECON 407 - US Courts & Judges'\n"
   ]
  },
  {
   "cell_type": "code",
   "execution_count": 4,
   "metadata": {
    "pycharm": {
     "is_executing": false,
     "metadata": false,
     "name": "#%%\n"
    }
   },
   "outputs": [],
   "source": [
    "cm_data = pd.read_csv(os.path.join(dataDir,r'Carp-Manning.csv'))\n",
    "cm_data = cm_data.rename(columns = {'judge':'Authoring Judge','crtpoint':'Court Location',\n",
    "                          'numjudge':'Number of Judges','circuit':'Circuit',\n",
    "                          'state':'State','statdist':'District','month':'Month',\n",
    "                          'year':'Year','libcon':'Decision Ideology',\n",
    "                          'casetype':'Case Type','category':'Case Category',\n",
    "                          'casnum':'Case Number','apyear':'Year of Appointment',\n",
    "                          'appres':'Appointing President','party':'Judge Party',\n",
    "                          'gender':'Gender','race':'Race'})\n",
    "\n"
   ]
  },
  {
   "cell_type": "code",
   "execution_count": 5,
   "metadata": {
    "pycharm": {
     "is_executing": false,
     "metadata": false,
     "name": "#%%\n"
    }
   },
   "outputs": [],
   "source": [
    "cm_data.to_csv(os.path.join(dataDir,'Carp Manning Clean.csv'), index = False)\n"
   ]
  },
  {
   "cell_type": "code",
   "execution_count": null,
   "metadata": {
    "pycharm": {
     "metadata": false,
     "name": "#%%\n"
    }
   },
   "outputs": [],
   "source": [
    "\n"
   ]
  }
 ],
 "metadata": {
  "kernelspec": {
   "display_name": "Python 3",
   "language": "python",
   "name": "python3"
  },
  "language_info": {
   "codemirror_mode": {
    "name": "ipython",
    "version": 3
   },
   "file_extension": ".py",
   "mimetype": "text/x-python",
   "name": "python",
   "nbconvert_exporter": "python",
   "pygments_lexer": "ipython3",
   "version": "3.6.8"
  }
 },
 "nbformat": 4,
 "nbformat_minor": 1
}
