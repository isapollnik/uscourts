{
  "cells": [
    {
      "cell_type": "code",
      "execution_count": 1,
      "metadata": {
        "collapsed": true,
        "pycharm": {
          "is_executing": false
        }
      },
      "outputs": [],
      "source": "import pandas as pd\nimport numpy as np\nimport os\n\n\n\n"
    },
    {
      "cell_type": "code",
      "execution_count": 5,
      "outputs": [],
      "source": "dataDir \u003d r\u0027C:\\Users\\Ian\\Dropbox\\ECON 407 - US Courts \u0026 Judges\u0027\ncm_data \u003d pd.read_stata(os.path.join(dataDir,r\u0027Other Datasets\\JCS medians 2018.dta\u0027))\n\n\n\n",
      "metadata": {
        "pycharm": {
          "metadata": false,
          "name": "#%%\n",
          "is_executing": false
        }
      }
    }
  ],
  "metadata": {
    "language_info": {
      "codemirror_mode": {
        "name": "ipython",
        "version": 2
      },
      "file_extension": ".py",
      "mimetype": "text/x-python",
      "name": "python",
      "nbconvert_exporter": "python",
      "pygments_lexer": "ipython2",
      "version": "2.7.6"
    },
    "kernelspec": {
      "name": "python3",
      "language": "python",
      "display_name": "Python 3"
    }
  },
  "nbformat": 4,
  "nbformat_minor": 0
}