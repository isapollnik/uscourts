{
  "cells": [
    {
      "cell_type": "code",
      "execution_count": 31,
      "outputs": [],
      "source": "import pandas as pd\nimport os\nimport jellyfish\n",
      "metadata": {
        "pycharm": {
          "metadata": false,
          "name": "#%%\n",
          "is_executing": false
        }
      }
    },
    {
      "cell_type": "code",
      "execution_count": 32,
      "outputs": [],
      "source": "dataDir \u003d r\u0027C:\\Users\\Ian\\Dropbox\\ECON 407 - US Courts \u0026 Judges\u0027\n",
      "metadata": {
        "pycharm": {
          "metadata": false,
          "name": "#%%\n",
          "is_executing": false
        }
      }
    },
    {
      "cell_type": "code",
      "execution_count": 33,
      "outputs": [],
      "source": "cm_data \u003d pd.read_csv(os.path.join(dataDir,\u0027Carp Manning Clean.csv\u0027))\njudge_data \u003d pd.read_csv(os.path.join(dataDir,\u0027Judge Attribute and Ideology.csv\u0027))\n",
      "metadata": {
        "pycharm": {
          "metadata": false,
          "name": "#%%\n",
          "is_executing": false
        }
      }
    },
    {
      "cell_type": "code",
      "execution_count": 34,
      "outputs": [],
      "source": "# Delete this once notebooks are merged as it has already been defined.\ndef get_best_name_match_from_list(name, data_list):\n    best_match \u003d \"\"\n    highest_jw \u003d 0\n    \n    for potential_match in data_list:\n        current_score \u003d jellyfish.jaro_winkler(potential_match, name)\n        if ((current_score \u003e highest_jw) and (current_score \u003e 0.89)):\n            highest_jw \u003d current_score\n            best_match \u003d potential_match\n    \n    return best_match\n\ncm_data[\u0027Closest Name\u0027] \u003d cm_data[\u0027Authoring Judge\u0027].apply(lambda x : get_best_name_match_from_list(x,judge_data[\u0027Name\u0027]))\n",
      "metadata": {
        "pycharm": {
          "metadata": false,
          "name": "#%%\n",
          "is_executing": false
        }
      }
    },
    {
      "cell_type": "code",
      "execution_count": 35,
      "outputs": [],
      "source": "cm_data \u003d cm_data.merge(judge_data, left_on \u003d \u0027Closest Name\u0027, right_on \u003d \u0027Name\u0027, how \u003d \u0027left\u0027)\n",
      "metadata": {
        "pycharm": {
          "metadata": false,
          "name": "#%%\n",
          "is_executing": false
        }
      }
    },
    {
      "cell_type": "code",
      "execution_count": 36,
      "outputs": [],
      "source": "cm_data_preserve \u003d cm_data.copy()\nduplicate_cols \u003d list(filter(lambda col: col[-2:] \u003d\u003d \u0027_y\u0027, list(cm_data.columns)))\ncm_data \u003d cm_data.drop(columns \u003d duplicate_cols)\ncm_data \u003d cm_data.drop(columns \u003d [\u0027Closest Name\u0027,\u0027Name\u0027])\nduplicate_cols \u003d [col[:-2] for col in duplicate_cols]\nfor col in duplicate_cols:\n    cm_data \u003d cm_data.rename(columns \u003d {col + \u0027_x\u0027: col})\n",
      "metadata": {
        "pycharm": {
          "metadata": false,
          "name": "#%%\n",
          "is_executing": false
        }
      }
    },
    {
      "cell_type": "code",
      "execution_count": 38,
      "outputs": [],
      "source": "cm_data.to_csv(os.path.join(dataDir,\u0027Carp Manning with Attributes.csv\u0027),index \u003d False)",
      "metadata": {
        "pycharm": {
          "metadata": false,
          "name": "#%%\n",
          "is_executing": false
        }
      }
    }
  ],
  "metadata": {
    "language_info": {
      "codemirror_mode": {
        "name": "ipython",
        "version": 2
      },
      "file_extension": ".py",
      "mimetype": "text/x-python",
      "name": "python",
      "nbconvert_exporter": "python",
      "pygments_lexer": "ipython2",
      "version": "2.7.6"
    },
    "kernelspec": {
      "name": "python3",
      "language": "python",
      "display_name": "Python 3"
    },
    "stem_cell": {
      "cell_type": "raw",
      "source": "",
      "metadata": {
        "pycharm": {
          "metadata": false
        }
      }
    }
  },
  "nbformat": 4,
  "nbformat_minor": 0
}