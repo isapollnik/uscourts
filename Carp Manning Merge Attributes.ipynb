{
 "cells": [
  {
   "cell_type": "markdown",
   "metadata": {
    "pycharm": {
     "is_executing": false,
     "metadata": false,
     "name": "#%%\n"
    }
   },
   "source": [
    "# Merging Carp Maning Dataset with Attributes Dataset"
   ]
  },
  {
   "cell_type": "code",
   "execution_count": 2,
   "metadata": {
    "pycharm": {
     "is_executing": false,
     "metadata": false,
     "name": "#%%\n"
    }
   },
   "outputs": [],
   "source": [
    "import pandas as pd\n",
    "import os\n",
    "import jellyfish\n"
   ]
  },
  {
   "cell_type": "code",
   "execution_count": 3,
   "metadata": {
    "pycharm": {
     "is_executing": false,
     "metadata": false,
     "name": "#%%\n"
    }
   },
   "outputs": [],
   "source": [
    "cm_data = pd.read_csv('Carp Manning Clean.csv')\n",
    "judge_data = pd.read_csv('Judge Attribute and Ideology.csv')\n"
   ]
  },
  {
   "cell_type": "code",
   "execution_count": 4,
   "metadata": {
    "pycharm": {
     "is_executing": false,
     "metadata": false,
     "name": "#%%\n"
    }
   },
   "outputs": [],
   "source": [
    "# Delete this once notebooks are merged as it has already been defined.\n",
    "def get_best_name_match_from_list(name, data_list):\n",
    "    best_match = \"\"\n",
    "    highest_jw = 0\n",
    "    \n",
    "    for potential_match in data_list:\n",
    "        current_score = jellyfish.jaro_winkler(potential_match, name)\n",
    "        if ((current_score > highest_jw) and (current_score > 0.89)):\n",
    "            highest_jw = current_score\n",
    "            best_match = potential_match\n",
    "    \n",
    "    return best_match\n",
    "\n",
    "cm_data['Closest Name'] = cm_data['Authoring Judge'].apply(lambda x : get_best_name_match_from_list(x,judge_data['Name']))\n"
   ]
  },
  {
   "cell_type": "code",
   "execution_count": 5,
   "metadata": {
    "pycharm": {
     "is_executing": false,
     "metadata": false,
     "name": "#%%\n"
    }
   },
   "outputs": [],
   "source": [
    "cm_data = cm_data.merge(judge_data, left_on = 'Closest Name', right_on = 'Name', how = 'left')\n"
   ]
  },
  {
   "cell_type": "code",
   "execution_count": 6,
   "metadata": {
    "pycharm": {
     "is_executing": false,
     "metadata": false,
     "name": "#%%\n"
    }
   },
   "outputs": [],
   "source": [
    "cm_data_preserve = cm_data.copy()\n",
    "duplicate_cols = list(filter(lambda col: col[-2:] == '_y', list(cm_data.columns)))\n",
    "cm_data = cm_data.drop(columns = duplicate_cols)\n",
    "cm_data = cm_data.drop(columns = ['Closest Name','Name'])\n",
    "duplicate_cols = [col[:-2] for col in duplicate_cols]\n",
    "for col in duplicate_cols:\n",
    "    cm_data = cm_data.rename(columns = {col + '_x': col})\n"
   ]
  },
  {
   "cell_type": "code",
   "execution_count": 7,
   "metadata": {
    "pycharm": {
     "is_executing": false,
     "metadata": false,
     "name": "#%%\n"
    }
   },
   "outputs": [],
   "source": [
    "cm_data.to_csv(os.path.join(dataDir,'Carp Manning with Attributes.csv'),index = False)"
   ]
  },
  {
   "cell_type": "code",
   "execution_count": null,
   "metadata": {
    "pycharm": {
     "metadata": false,
     "name": "#%%\n"
    }
   },
   "outputs": [],
   "source": [
    "\n"
   ]
  }
 ],
 "metadata": {
  "kernelspec": {
   "display_name": "Python 3",
   "language": "python",
   "name": "python3"
  },
  "language_info": {
   "codemirror_mode": {
    "name": "ipython",
    "version": 3
   },
   "file_extension": ".py",
   "mimetype": "text/x-python",
   "name": "python",
   "nbconvert_exporter": "python",
   "pygments_lexer": "ipython3",
   "version": "3.6.8"
  },
  "stem_cell": {
   "cell_type": "raw",
   "metadata": {
    "pycharm": {
     "metadata": false
    }
   },
   "source": ""
  }
 },
 "nbformat": 4,
 "nbformat_minor": 1
}
