{
  "cells": [
    {
      "cell_type": "code",
      "execution_count": 2,
      "metadata": {
        "pycharm": {
          "metadata": false,
          "name": "#%%\n",
          "is_executing": false
        }
      },
      "outputs": [],
      "source": "import pandas as pd\nimport numpy as np\nimport os\n"
    },
    {
      "cell_type": "code",
      "execution_count": 3,
      "outputs": [],
      "source": "#All data files are located here. Change if running.\ndataDir \u003d r\u0027C:\\Users\\Ian\\Dropbox\\ECON 407 - US Courts \u0026 Judges\u0027\n",
      "metadata": {
        "pycharm": {
          "metadata": false,
          "name": "#%%\n",
          "is_executing": false
        }
      }
    },
    {
      "cell_type": "code",
      "execution_count": 4,
      "outputs": [],
      "source": "judge_att_data \u003d pd.read_csv(os.path.join(dataDir,\u0027Judge Attribute Data.csv\u0027))\n",
      "metadata": {
        "pycharm": {
          "metadata": false,
          "name": "#%%\n",
          "is_executing": false
        }
      }
    },
    {
      "cell_type": "code",
      "execution_count": 28,
      "outputs": [
        {
          "traceback": [
            "\u001b[1;31m---------------------------------------------------------------------------\u001b[0m",
            "\u001b[1;31mKeyError\u001b[0m                                  Traceback (most recent call last)",
            "\u001b[1;32m\u003cipython-input-28-6c436a24498d\u003e\u001b[0m in \u001b[0;36m\u003cmodule\u003e\u001b[1;34m\u001b[0m\n\u001b[0;32m      3\u001b[0m                                                 \u001b[1;34m\u0027songer_code\u0027\u001b[0m\u001b[1;33m,\u001b[0m\u001b[1;34m\u0027monl\u0027\u001b[0m\u001b[1;33m,\u001b[0m\u001b[1;34m\u0027amon\u0027\u001b[0m\u001b[1;33m,\u001b[0m\u001b[1;34m\u0027crossl\u0027\u001b[0m\u001b[1;33m,\u001b[0m\u001b[1;34m\u0027pred\u0027\u001b[0m\u001b[1;33m,\u001b[0m\u001b[1;34m\u0027appt\u0027\u001b[0m\u001b[1;33m,\u001b[0m\u001b[1;34m\u0027temp\u0027\u001b[0m\u001b[1;33m,\u001b[0m\u001b[1;33m\u001b[0m\u001b[1;33m\u001b[0m\u001b[0m\n\u001b[0;32m      4\u001b[0m                                                 \u001b[1;34m\u0027trans\u0027\u001b[0m\u001b[1;33m,\u001b[0m\u001b[1;34m\u0027liable\u0027\u001b[0m\u001b[1;33m,\u001b[0m\u001b[1;34m\u0027abamin\u0027\u001b[0m\u001b[1;33m,\u001b[0m\u001b[1;34m\u0027dsenate\u0027\u001b[0m\u001b[1;33m,\u001b[0m\u001b[1;34m\u0027rsenate\u0027\u001b[0m\u001b[1;33m,\u001b[0m\u001b[1;34m\u0027dhouse\u0027\u001b[0m\u001b[1;33m,\u001b[0m\u001b[1;33m\u001b[0m\u001b[1;33m\u001b[0m\u001b[0m\n\u001b[1;32m----\u003e 5\u001b[1;33m                                                 \u0027rhouse\u0027])\n\u001b[0m\u001b[0;32m      6\u001b[0m judge_att_data \u003d judge_att_data.rename({\u0027name\u0027:\u0027Name\u0027,\u0027circuit_original\u0027:\u0027Circuit\u0027,\u0027id\u0027:\u0027ID\u0027,\n\u001b[0;32m      7\u001b[0m                                         \u001b[1;34m\u0027pres\u0027\u001b[0m\u001b[1;33m:\u001b[0m\u001b[1;34m\u0027Appointing President\u0027\u001b[0m\u001b[1;33m,\u001b[0m\u001b[1;34m\u0027yearl\u0027\u001b[0m\u001b[1;33m:\u001b[0m\u001b[1;34m\u0027Year of Departure\u0027\u001b[0m\u001b[1;33m,\u001b[0m\u001b[1;33m\u001b[0m\u001b[1;33m\u001b[0m\u001b[0m\n",
            "\u001b[1;32mC:\\ProgramData\\Anaconda3\\lib\\site-packages\\pandas\\core\\frame.py\u001b[0m in \u001b[0;36mdrop\u001b[1;34m(self, labels, axis, index, columns, level, inplace, errors)\u001b[0m\n\u001b[0;32m   3938\u001b[0m                                            \u001b[0mindex\u001b[0m\u001b[1;33m\u003d\u001b[0m\u001b[0mindex\u001b[0m\u001b[1;33m,\u001b[0m \u001b[0mcolumns\u001b[0m\u001b[1;33m\u003d\u001b[0m\u001b[0mcolumns\u001b[0m\u001b[1;33m,\u001b[0m\u001b[1;33m\u001b[0m\u001b[1;33m\u001b[0m\u001b[0m\n\u001b[0;32m   3939\u001b[0m                                            \u001b[0mlevel\u001b[0m\u001b[1;33m\u003d\u001b[0m\u001b[0mlevel\u001b[0m\u001b[1;33m,\u001b[0m \u001b[0minplace\u001b[0m\u001b[1;33m\u003d\u001b[0m\u001b[0minplace\u001b[0m\u001b[1;33m,\u001b[0m\u001b[1;33m\u001b[0m\u001b[1;33m\u001b[0m\u001b[0m\n\u001b[1;32m-\u003e 3940\u001b[1;33m                                            errors\u003derrors)\n\u001b[0m\u001b[0;32m   3941\u001b[0m \u001b[1;33m\u001b[0m\u001b[0m\n\u001b[0;32m   3942\u001b[0m     @rewrite_axis_style_signature(\u0027mapper\u0027, [(\u0027copy\u0027, True),\n",
            "\u001b[1;32mC:\\ProgramData\\Anaconda3\\lib\\site-packages\\pandas\\core\\generic.py\u001b[0m in \u001b[0;36mdrop\u001b[1;34m(self, labels, axis, index, columns, level, inplace, errors)\u001b[0m\n\u001b[0;32m   3778\u001b[0m         \u001b[1;32mfor\u001b[0m \u001b[0maxis\u001b[0m\u001b[1;33m,\u001b[0m \u001b[0mlabels\u001b[0m \u001b[1;32min\u001b[0m \u001b[0maxes\u001b[0m\u001b[1;33m.\u001b[0m\u001b[0mitems\u001b[0m\u001b[1;33m(\u001b[0m\u001b[1;33m)\u001b[0m\u001b[1;33m:\u001b[0m\u001b[1;33m\u001b[0m\u001b[1;33m\u001b[0m\u001b[0m\n\u001b[0;32m   3779\u001b[0m             \u001b[1;32mif\u001b[0m \u001b[0mlabels\u001b[0m \u001b[1;32mis\u001b[0m \u001b[1;32mnot\u001b[0m \u001b[1;32mNone\u001b[0m\u001b[1;33m:\u001b[0m\u001b[1;33m\u001b[0m\u001b[1;33m\u001b[0m\u001b[0m\n\u001b[1;32m-\u003e 3780\u001b[1;33m                 \u001b[0mobj\u001b[0m \u001b[1;33m\u003d\u001b[0m \u001b[0mobj\u001b[0m\u001b[1;33m.\u001b[0m\u001b[0m_drop_axis\u001b[0m\u001b[1;33m(\u001b[0m\u001b[0mlabels\u001b[0m\u001b[1;33m,\u001b[0m \u001b[0maxis\u001b[0m\u001b[1;33m,\u001b[0m \u001b[0mlevel\u001b[0m\u001b[1;33m\u003d\u001b[0m\u001b[0mlevel\u001b[0m\u001b[1;33m,\u001b[0m \u001b[0merrors\u001b[0m\u001b[1;33m\u003d\u001b[0m\u001b[0merrors\u001b[0m\u001b[1;33m)\u001b[0m\u001b[1;33m\u001b[0m\u001b[1;33m\u001b[0m\u001b[0m\n\u001b[0m\u001b[0;32m   3781\u001b[0m \u001b[1;33m\u001b[0m\u001b[0m\n\u001b[0;32m   3782\u001b[0m         \u001b[1;32mif\u001b[0m \u001b[0minplace\u001b[0m\u001b[1;33m:\u001b[0m\u001b[1;33m\u001b[0m\u001b[1;33m\u001b[0m\u001b[0m\n",
            "\u001b[1;32mC:\\ProgramData\\Anaconda3\\lib\\site-packages\\pandas\\core\\generic.py\u001b[0m in \u001b[0;36m_drop_axis\u001b[1;34m(self, labels, axis, level, errors)\u001b[0m\n\u001b[0;32m   3810\u001b[0m                 \u001b[0mnew_axis\u001b[0m \u001b[1;33m\u003d\u001b[0m \u001b[0maxis\u001b[0m\u001b[1;33m.\u001b[0m\u001b[0mdrop\u001b[0m\u001b[1;33m(\u001b[0m\u001b[0mlabels\u001b[0m\u001b[1;33m,\u001b[0m \u001b[0mlevel\u001b[0m\u001b[1;33m\u003d\u001b[0m\u001b[0mlevel\u001b[0m\u001b[1;33m,\u001b[0m \u001b[0merrors\u001b[0m\u001b[1;33m\u003d\u001b[0m\u001b[0merrors\u001b[0m\u001b[1;33m)\u001b[0m\u001b[1;33m\u001b[0m\u001b[1;33m\u001b[0m\u001b[0m\n\u001b[0;32m   3811\u001b[0m             \u001b[1;32melse\u001b[0m\u001b[1;33m:\u001b[0m\u001b[1;33m\u001b[0m\u001b[1;33m\u001b[0m\u001b[0m\n\u001b[1;32m-\u003e 3812\u001b[1;33m                 \u001b[0mnew_axis\u001b[0m \u001b[1;33m\u003d\u001b[0m \u001b[0maxis\u001b[0m\u001b[1;33m.\u001b[0m\u001b[0mdrop\u001b[0m\u001b[1;33m(\u001b[0m\u001b[0mlabels\u001b[0m\u001b[1;33m,\u001b[0m \u001b[0merrors\u001b[0m\u001b[1;33m\u003d\u001b[0m\u001b[0merrors\u001b[0m\u001b[1;33m)\u001b[0m\u001b[1;33m\u001b[0m\u001b[1;33m\u001b[0m\u001b[0m\n\u001b[0m\u001b[0;32m   3813\u001b[0m             \u001b[0mresult\u001b[0m \u001b[1;33m\u003d\u001b[0m \u001b[0mself\u001b[0m\u001b[1;33m.\u001b[0m\u001b[0mreindex\u001b[0m\u001b[1;33m(\u001b[0m\u001b[1;33m**\u001b[0m\u001b[1;33m{\u001b[0m\u001b[0maxis_name\u001b[0m\u001b[1;33m:\u001b[0m \u001b[0mnew_axis\u001b[0m\u001b[1;33m}\u001b[0m\u001b[1;33m)\u001b[0m\u001b[1;33m\u001b[0m\u001b[1;33m\u001b[0m\u001b[0m\n\u001b[0;32m   3814\u001b[0m \u001b[1;33m\u001b[0m\u001b[0m\n",
            "\u001b[1;32mC:\\ProgramData\\Anaconda3\\lib\\site-packages\\pandas\\core\\indexes\\base.py\u001b[0m in \u001b[0;36mdrop\u001b[1;34m(self, labels, errors)\u001b[0m\n\u001b[0;32m   4963\u001b[0m             \u001b[1;32mif\u001b[0m \u001b[0merrors\u001b[0m \u001b[1;33m!\u003d\u001b[0m \u001b[1;34m\u0027ignore\u0027\u001b[0m\u001b[1;33m:\u001b[0m\u001b[1;33m\u001b[0m\u001b[1;33m\u001b[0m\u001b[0m\n\u001b[0;32m   4964\u001b[0m                 raise KeyError(\n\u001b[1;32m-\u003e 4965\u001b[1;33m                     \u0027{} not found in axis\u0027.format(labels[mask]))\n\u001b[0m\u001b[0;32m   4966\u001b[0m             \u001b[0mindexer\u001b[0m \u001b[1;33m\u003d\u001b[0m \u001b[0mindexer\u001b[0m\u001b[1;33m[\u001b[0m\u001b[1;33m~\u001b[0m\u001b[0mmask\u001b[0m\u001b[1;33m]\u001b[0m\u001b[1;33m\u001b[0m\u001b[1;33m\u001b[0m\u001b[0m\n\u001b[0;32m   4967\u001b[0m         \u001b[1;32mreturn\u001b[0m \u001b[0mself\u001b[0m\u001b[1;33m.\u001b[0m\u001b[0mdelete\u001b[0m\u001b[1;33m(\u001b[0m\u001b[0mindexer\u001b[0m\u001b[1;33m)\u001b[0m\u001b[1;33m\u001b[0m\u001b[1;33m\u001b[0m\u001b[0m\n",
            "\u001b[1;31mKeyError\u001b[0m: \"[\u0027name_original\u0027 \u0027___l\u0027 \u0027___j\u0027 \u0027___char\u0027 \u0027elevate\u0027 \u0027dcother\u0027 \u0027liable\u0027\\n \u0027dummy\u0027 \u0027pseatno\u0027 \u0027sseatno\u0027 \u0027religion\u0027 \u0027circuit\u0027 \u0027songer_code\u0027 \u0027monl\u0027\\n \u0027amon\u0027 \u0027crossl\u0027 \u0027pred\u0027 \u0027appt\u0027 \u0027temp\u0027 \u0027trans\u0027 \u0027liable\u0027 \u0027abamin\u0027 \u0027dsenate\u0027\\n \u0027rsenate\u0027 \u0027dhouse\u0027 \u0027rhouse\u0027] not found in axis\""
          ],
          "ename": "KeyError",
          "evalue": "\"[\u0027name_original\u0027 \u0027___l\u0027 \u0027___j\u0027 \u0027___char\u0027 \u0027elevate\u0027 \u0027dcother\u0027 \u0027liable\u0027\\n \u0027dummy\u0027 \u0027pseatno\u0027 \u0027sseatno\u0027 \u0027religion\u0027 \u0027circuit\u0027 \u0027songer_code\u0027 \u0027monl\u0027\\n \u0027amon\u0027 \u0027crossl\u0027 \u0027pred\u0027 \u0027appt\u0027 \u0027temp\u0027 \u0027trans\u0027 \u0027liable\u0027 \u0027abamin\u0027 \u0027dsenate\u0027\\n \u0027rsenate\u0027 \u0027dhouse\u0027 \u0027rhouse\u0027] not found in axis\"",
          "output_type": "error"
        }
      ],
      "source": "judge_att_data \u003d judge_att_data.drop(columns \u003d [\u0027name_original\u0027,\u0027___l\u0027,\u0027___j\u0027,\u0027___char\u0027,\u0027elevate\u0027,\u0027dcother\u0027,\n                                                \u0027liable\u0027, \u0027dummy\u0027,\u0027pseatno\u0027,\u0027sseatno\u0027,\u0027religion\u0027,\u0027circuit\u0027,\n                                                \u0027songer_code\u0027,\u0027monl\u0027,\u0027amon\u0027,\u0027crossl\u0027,\u0027pred\u0027,\u0027appt\u0027,\u0027temp\u0027,\n                                                \u0027trans\u0027,\u0027liable\u0027,\u0027abamin\u0027,\u0027dsenate\u0027,\u0027rsenate\u0027,\u0027dhouse\u0027,\n                                                \u0027rhouse\u0027,\u0027fhouse\u0027,\u0027fsenate\u0027,\u0027drhouse\u0027,\u0027drsenate\u0027,\n                                                \u0027whouse\u0027,\u0027wsenate\u0027,\u0027nrhouse\u0027,\u0027nrsenate\u0027,\u0027dsens\u0027,\u0027rsens\u0027,\n                                                \u0027yeari\u0027,\u0027yearc\u0027,\u0027e1\u0027,\u0027e2\u0027,\u0027e3\u0027,\u0027e4\u0027,\u0027e5\u0027,\u0027e6\u0027,\u0027congresi\u0027,\n                                                \u0027unity\u0027])\njudge_att_data \u003d judge_att_data.rename({\u0027name\u0027:\u0027Name\u0027,\u0027circuit_original\u0027:\u0027Circuit\u0027,\u0027id\u0027:\u0027ID\u0027,\n                                        \u0027pres\u0027:\u0027Appointing President\u0027,\u0027yearl\u0027:\u0027Year of Departure\u0027,\n                                        \u0027yearb\u0027:\u0027Year of Birth\u0027,\u0027yeard\u0027:\u0027Year of Death\u0027,\n                                        \u0027pleft\u0027:\u0027President when Departed\u0027,\u0027left\u0027:\u0027Reason for Departing\u0027,\n                                        \u0027party\u0027:\u0027Judge Party\u0027,\u0027district\u0027:\u0027District\u0027,\u0027state\u0027:\u0027State\u0027,\n                                        \u0027city\u0027:\u0027City\u0027,\u0027gender\u0027:\u0027Gender\u0027,\u0027race\u0027:\u0027Race\u0027,\n                                        \u0027ayear\u0027:\u0027Year of Appointment\u0027,\u0027crossa\u0027:\u0027Cross Appointment\u0027,\n                                        \u0027recess\u0027:\u0027Recess Appointment\u0027,\u0027aba\u0027:\u0027ABA Rating\u0027,\n                                        \u0027assets\u0027:\u0027Assets\u0027,\u0027congress\u0027:\u0027Congress\u0027,\u0027unityi\u0027:\u0027Unity\u0027,\n                                        \u0027hdem\u0027:\u0027House Democrats\u0027,\u0027hrep\u0027:\u0027House Republicans\u0027,\n                                        \u0027sdem\u0027:\u0027Senate Democrats\u0027,\u0027srep\u0027:\u0027Senate Republicans\u0027})\n\n\n",
      "metadata": {
        "pycharm": {
          "metadata": false,
          "name": "#%%\n",
          "is_executing": false
        }
      }
    },
    {
      "cell_type": "code",
      "execution_count": null,
      "outputs": [],
      "source": "def unity_label(unity):\n    if unity \u003d\u003d 0:\n        return \u0027Unified\u0027\n    if unity \u003d\u003d 1:\n        return \u0027Both Divided\u0027\n    if unity \u003d\u003d 2:\n        return \u0027House Divided\u0027\n    if unity \u003d\u003d 3:\n        return \u0027Senate Divided\u0027\n    else:\n        return \u0027Unknown\u0027\njudge_att_data[\u0027Unity\u0027] \u003d judge_att_data[\u0027Unity\u0027].apply(unity_label)\n",
      "metadata": {
        "pycharm": {
          "metadata": false,
          "name": "#%%\n"
        }
      }
    }
  ],
  "metadata": {
    "kernelspec": {
      "display_name": "Python 3",
      "language": "python",
      "name": "python3"
    },
    "language_info": {
      "codemirror_mode": {
        "name": "ipython",
        "version": 3
      },
      "file_extension": ".py",
      "mimetype": "text/x-python",
      "name": "python",
      "nbconvert_exporter": "python",
      "pygments_lexer": "ipython3",
      "version": "3.7.3"
    },
    "stem_cell": {
      "cell_type": "raw",
      "metadata": {
        "pycharm": {
          "metadata": false
        }
      },
      "source": ""
    }
  },
  "nbformat": 4,
  "nbformat_minor": 1
}