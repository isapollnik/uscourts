{
  "cells": [
    {
      "cell_type": "code",
      "execution_count": 45,
      "metadata": {
        "pycharm": {
          "is_executing": false,
          "metadata": false,
          "name": "#%%\n"
        }
      },
      "outputs": [],
      "source": "import pandas as pd\nimport numpy as np\nimport os\nimport jellyfish\n"
    },
    {
      "cell_type": "code",
      "execution_count": 46,
      "metadata": {
        "pycharm": {
          "is_executing": false,
          "metadata": false,
          "name": "#%%\n"
        }
      },
      "outputs": [],
      "source": "# All data files are located here. Change if running.\ndataDir \u003d r\u0027C:\\Users\\Ian\\Dropbox\\ECON 407 - US Courts \u0026 Judges\u0027\n"
    },
    {
      "cell_type": "code",
      "execution_count": 47,
      "metadata": {
        "pycharm": {
          "is_executing": false,
          "metadata": false,
          "name": "#%%\n"
        }
      },
      "outputs": [],
      "source": "# Load raw data\njudge_att_data \u003d pd.read_csv(os.path.join(dataDir,\u0027Judge Attribute Data.csv\u0027))\n"
    },
    {
      "cell_type": "code",
      "execution_count": 48,
      "metadata": {
        "pycharm": {
          "is_executing": false,
          "metadata": false,
          "name": "#%%\n"
        }
      },
      "outputs": [],
      "source": "# Drop unnecessary columns, rename necessary columns \njudge_att_data \u003d judge_att_data.drop(columns \u003d [\u0027name_original\u0027,\u0027___l\u0027,\u0027___j\u0027,\u0027___char\u0027,\u0027elevate\u0027,\u0027dcother\u0027,\n                                                \u0027liable\u0027, \u0027dummy\u0027,\u0027religion\u0027,\u0027circuit\u0027,\n                                                \u0027songer_code\u0027,\u0027amon\u0027,\u0027crossl\u0027,\u0027pred\u0027,\u0027appt\u0027,\u0027temp\u0027,\n                                                \u0027trans\u0027,\u0027liable\u0027,\u0027abamin\u0027,\u0027dsenate\u0027,\u0027rsenate\u0027,\u0027dhouse\u0027,\n                                                \u0027rhouse\u0027,\u0027fhouse\u0027,\u0027fsenate\u0027,\u0027drhouse\u0027,\u0027drsenate\u0027,\n                                                \u0027whouse\u0027,\u0027wsenate\u0027,\u0027nrhouse\u0027,\u0027nrsenate\u0027,\u0027dsens\u0027,\u0027rsens\u0027,\n                                                \u0027yeari\u0027,\u0027yearc\u0027,\u0027e1\u0027,\u0027e2\u0027,\u0027e3\u0027,\u0027e4\u0027,\u0027e5\u0027,\u0027e6\u0027,\u0027congresi\u0027,\n                                                \u0027unity\u0027,\u0027e7\u0027,\u0027e8\u0027,\u0027yearo\u0027,\u0027congreso\u0027,\u0027unityo\u0027,\u0027cityb\u0027,\n                                                \u0027badeg\u0027,\u0027bastate\u0027,\u0027bastatus\u0027,\u0027jddeg\u0027,\u0027jdstate\u0027,\u0027jdstatus\u0027,\n                                                \u0027grad1\u0027,\u0027grad2\u0027,\u0027tperm\u0027,\u0027fsens\u0027,\u0027drsens\u0027,\u0027wsens\u0027,\u0027nrsens\u0027,\n                                                \u0027osens\u0027,\u0027agego\u0027,\u0027service\u0027,\u0027csb\u0027,\u0027ba\u0027,\u0027bast\u0027,\u0027bapp\u0027,\u0027ls\u0027,\n                                                \u0027lsst\u0027,\u0027jdpp\u0027,\u0027graddeg1\u0027,\u0027graddeg2\u0027,\u0027statecab\u0027,\u0027state2\u0027,\n                                                \u0027recdate\u0027,\u0027ageon\u0027])\njudge_att_data \u003d judge_att_data.rename(columns \u003d {\u0027name\u0027:\u0027Name\u0027,\u0027circuit_original\u0027:\u0027Circuit\u0027,\u0027id\u0027:\u0027ID\u0027,\n                                        \u0027pres\u0027:\u0027Appointing President\u0027,\u0027yearl\u0027:\u0027Year of Departure\u0027,\n                                        \u0027yearb\u0027:\u0027Year of Birth\u0027,\u0027yeard\u0027:\u0027Year of Death\u0027,\n                                        \u0027pleft\u0027:\u0027President when Departed\u0027,\u0027left\u0027:\u0027Reason for Departing\u0027,\n                                        \u0027party\u0027:\u0027Judge Party\u0027,\u0027district\u0027:\u0027District\u0027,\u0027state\u0027:\u0027State\u0027,\n                                        \u0027city\u0027:\u0027City\u0027,\u0027gender\u0027:\u0027Gender\u0027,\u0027race\u0027:\u0027Race\u0027,\n                                        \u0027ayear\u0027:\u0027Year of Appointment\u0027,\u0027crossa\u0027:\u0027Cross Appointment\u0027,\n                                        \u0027recess\u0027:\u0027Recess Appointment\u0027,\u0027aba\u0027:\u0027ABA Rating\u0027,\n                                        \u0027assets\u0027:\u0027Assets\u0027,\u0027congress\u0027:\u0027Congress\u0027,\u0027unityi\u0027:\u0027Unity\u0027,\n                                        \u0027hdem\u0027:\u0027House Democrats\u0027,\u0027hrep\u0027:\u0027House Republicans\u0027,\n                                        \u0027sdem\u0027:\u0027Senate Democrats\u0027,\u0027srep\u0027:\u0027Senate Republicans\u0027,\n                                        \u0027hother\u0027:\u0027House Independents\u0027,\u0027sother\u0027:\u0027Senate Independents\u0027,\n                                        \u0027networth\u0027:\u0027Net Worth\u0027})\n\n"
    },
    {
      "cell_type": "code",
      "execution_count": 49,
      "metadata": {
        "pycharm": {
          "is_executing": false,
          "metadata": false,
          "name": "#%%\n"
        }
      },
      "outputs": [],
      "source": "# Replace zero values with missing for net worth and assets\ndef replace_zero_with_na(x):\n    if x \u003d\u003d 0:\n        return np.nan\n    else:\n        return x\njudge_att_data[\u0027Assets\u0027] \u003d judge_att_data[\u0027Assets\u0027].apply(replace_zero_with_na)\njudge_att_data[\u0027Net Worth\u0027] \u003d judge_att_data[\u0027Net Worth\u0027].apply(replace_zero_with_na)\n"
    },
    {
      "cell_type": "code",
      "execution_count": 50,
      "metadata": {
        "pycharm": {
          "metadata": false,
          "name": "#%%\n",
          "is_executing": false
        }
      },
      "outputs": [],
      "source": "# Turn the position indicator columns into dummies and rename\ndef turn_into_dummy(val):\n    if np.isnan(val):\n        return 0\n    else:\n        return 1\n\nposition_columns \u003d list(filter(lambda col: col[0] \u003d\u003d \u0027p\u0027, list(judge_att_data.columns)))\nfor col in position_columns:\n    judge_att_data[col] \u003d judge_att_data[col].apply(turn_into_dummy)\n    judge_att_data \u003d judge_att_data.rename(columns \u003d {col:\u0027Previous Position - \u0027 + col[1:]})\n"
    },
    {
      "cell_type": "code",
      "execution_count": 51,
      "outputs": [],
      "source": "# Load ideology data\njudge_ideo_score \u003d pd.read_excel(os.path.join(dataDir,\u0027Judge Ideology Scores.xlsx\u0027))\njudge_ideo_score \u003d judge_ideo_score[[\u0027judgename\u0027,\u0027ideology_score\u0027]]\njudge_ideo_score \u003d judge_ideo_score.rename(columns \u003d {\u0027judgename\u0027:\u0027Name\u0027,\u0027ideology_score\u0027:\u0027Ideology Score\u0027})\n\n",
      "metadata": {
        "pycharm": {
          "metadata": false,
          "name": "#%%\n",
          "is_executing": false
        }
      }
    },
    {
      "cell_type": "code",
      "execution_count": 52,
      "outputs": [],
      "source": "def get_best_name_match_from_ideo_data(name):\n    ideo_names \u003d judge_ideo_score[\u0027Name\u0027]\n    best_match \u003d \"\"\n    highest_jw \u003d 0\n    \n    for ideo_name in ideo_names:\n        current_score \u003d jellyfish.jaro_winkler(name, ideo_name)\n        if ((current_score \u003e highest_jw) and (current_score \u003e 0.89)):\n            highest_jw \u003d current_score\n            best_match \u003d ideo_name\n    \n    return best_match\n\njudge_att_data[\u0027Closest Name\u0027] \u003d judge_att_data[\u0027Name\u0027].apply(get_best_name_match_from_ideo_data)\njudge_att_data \u003d judge_att_data.merge(judge_ideo_score, left_on \u003d \u0027Closest Name\u0027, right_on \u003d \u0027Name\u0027, how \u003d \u0027left\u0027)\njudge_att_data \u003d judge_att_data.drop(columns \u003d [\u0027Name_y\u0027,\u0027Closest Name\u0027])\njudge_att_data \u003d judge_att_data.rename(columns \u003d {\u0027Name_x\u0027:\u0027Name\u0027})\n",
      "metadata": {
        "pycharm": {
          "metadata": false,
          "name": "#%%\n",
          "is_executing": false
        }
      }
    },
    {
      "cell_type": "code",
      "execution_count": 53,
      "outputs": [],
      "source": "judge_att_data.to_csv(os.path.join(dataDir,\u0027Judge Attribute and Ideology.csv\u0027), index \u003d False)",
      "metadata": {
        "pycharm": {
          "metadata": false,
          "name": "#%%\n",
          "is_executing": false
        }
      }
    },
    {
      "cell_type": "code",
      "execution_count": null,
      "outputs": [],
      "source": "\n",
      "metadata": {
        "pycharm": {
          "metadata": false,
          "name": "#%%\n"
        }
      }
    }
  ],
  "metadata": {
    "kernelspec": {
      "display_name": "Python 3",
      "language": "python",
      "name": "python3"
    },
    "language_info": {
      "codemirror_mode": {
        "name": "ipython",
        "version": 3
      },
      "file_extension": ".py",
      "mimetype": "text/x-python",
      "name": "python",
      "nbconvert_exporter": "python",
      "pygments_lexer": "ipython3",
      "version": "3.7.3"
    },
    "stem_cell": {
      "cell_type": "raw",
      "metadata": {
        "pycharm": {
          "metadata": false
        }
      },
      "source": ""
    }
  },
  "nbformat": 4,
  "nbformat_minor": 1
}