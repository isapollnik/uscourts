{
 "cells": [
  {
   "cell_type": "markdown",
   "metadata": {
    "pycharm": {
     "is_executing": false,
     "metadata": false,
     "name": "#%%\n"
    }
   },
   "source": [
    "## Importing and Cleaning Judge Attribute Dataset"
   ]
  },
  {
   "cell_type": "code",
   "execution_count": null,
   "metadata": {},
   "outputs": [],
   "source": [
    "import pandas as pd\n",
    "import numpy as np\n",
    "import os"
   ]
  },
  {
   "cell_type": "code",
   "execution_count": null,
   "metadata": {},
   "outputs": [],
   "source": [
    "!pip install jellyfish"
   ]
  },
  {
   "cell_type": "code",
   "execution_count": 3,
   "metadata": {},
   "outputs": [],
   "source": [
    "import jellyfish"
   ]
  },
  {
   "cell_type": "code",
   "execution_count": 15,
   "metadata": {
    "pycharm": {
     "is_executing": false,
     "metadata": false,
     "name": "#%%\n"
    }
   },
   "outputs": [],
   "source": [
    "# All data files are located here. Change if running.\n",
    "dataDir = r'C:\\Users\\Ian\\Dropbox\\ECON 407 - US Courts & Judges'\n"
   ]
  },
  {
   "cell_type": "code",
   "execution_count": 4,
   "metadata": {
    "pycharm": {
     "is_executing": false,
     "metadata": false,
     "name": "#%%\n"
    }
   },
   "outputs": [],
   "source": [
    "# Load raw data\n",
    "#judge_att_data = pd.read_csv(os.path.join(dataDir,'Judge Attribute Data.csv'))\n",
    "\n",
    "judge_att_data = pd.read_csv('Judge Attribute Data.csv')\n"
   ]
  },
  {
   "cell_type": "code",
   "execution_count": 5,
   "metadata": {
    "pycharm": {
     "is_executing": false,
     "metadata": false,
     "name": "#%%\n"
    }
   },
   "outputs": [],
   "source": [
    "# Drop unnecessary columns, rename necessary columns \n",
    "judge_att_data = judge_att_data.drop(columns = ['name_original','___l','___j','___char','elevate','dcother',\n",
    "                                                'liable', 'dummy','religion','circuit',\n",
    "                                                'songer_code','amon','crossl','pred','appt','temp',\n",
    "                                                'trans','liable','abamin','dsenate','rsenate','dhouse',\n",
    "                                                'rhouse','fhouse','fsenate','drhouse','drsenate',\n",
    "                                                'whouse','wsenate','nrhouse','nrsenate','dsens','rsens',\n",
    "                                                'yeari','yearc','e1','e2','e3','e4','e5','e6','congresi',\n",
    "                                                'unity','e7','e8','yearo','congreso','unityo','cityb',\n",
    "                                                'badeg','bastate','bastatus','jddeg','jdstate','jdstatus',\n",
    "                                                'grad1','grad2','tperm','fsens','drsens','wsens','nrsens',\n",
    "                                                'osens','agego','service','csb','ba','bast','bapp','ls',\n",
    "                                                'lsst','jdpp','graddeg1','graddeg2','statecab','state2',\n",
    "                                                'recdate','ageon'])\n",
    "judge_att_data = judge_att_data.rename(columns = {'name':'Name','circuit_original':'Circuit','id':'ID',\n",
    "                                        'pres':'Appointing President','yearl':'Year of Departure',\n",
    "                                        'yearb':'Year of Birth','yeard':'Year of Death',\n",
    "                                        'pleft':'President when Departed','left':'Reason for Departing',\n",
    "                                        'party':'Judge Party','district':'District','state':'State',\n",
    "                                        'city':'City','gender':'Gender','race':'Race',\n",
    "                                        'ayear':'Year of Appointment','crossa':'Cross Appointment',\n",
    "                                        'recess':'Recess Appointment','aba':'ABA Rating',\n",
    "                                        'assets':'Assets','congress':'Congress','unityi':'Unity',\n",
    "                                        'hdem':'House Democrats','hrep':'House Republicans',\n",
    "                                        'sdem':'Senate Democrats','srep':'Senate Republicans',\n",
    "                                        'hother':'House Independents','sother':'Senate Independents',\n",
    "                                        'networth':'Net Worth','appres':'Appointing President Party'})\n",
    "\n"
   ]
  },
  {
   "cell_type": "code",
   "execution_count": 6,
   "metadata": {
    "pycharm": {
     "is_executing": false,
     "metadata": false,
     "name": "#%%\n"
    }
   },
   "outputs": [],
   "source": [
    "# Replace zero values with missing for net worth and assets\n",
    "def replace_zero_with_na(x):\n",
    "    if x == 0:\n",
    "        return np.nan\n",
    "    else:\n",
    "        return x\n",
    "judge_att_data['Assets'] = judge_att_data['Assets'].apply(replace_zero_with_na)\n",
    "judge_att_data['Net Worth'] = judge_att_data['Net Worth'].apply(replace_zero_with_na)\n"
   ]
  },
  {
   "cell_type": "code",
   "execution_count": 7,
   "metadata": {
    "pycharm": {
     "is_executing": false,
     "metadata": false,
     "name": "#%%\n"
    }
   },
   "outputs": [],
   "source": [
    "# Turn the position indicator columns into dummies and rename\n",
    "def turn_into_dummy(val):\n",
    "    if np.isnan(val):\n",
    "        return 0\n",
    "    else:\n",
    "        return 1\n",
    "\n",
    "position_columns = list(filter(lambda col: col[0] == 'p', list(judge_att_data.columns)))\n",
    "for col in position_columns:\n",
    "    judge_att_data[col] = judge_att_data[col].apply(turn_into_dummy)\n",
    "    judge_att_data = judge_att_data.rename(columns = {col:'Previous Position - ' + col[1:]})\n",
    "\n",
    "    "
   ]
  },
  {
   "cell_type": "code",
   "execution_count": null,
   "metadata": {
    "pycharm": {
     "is_executing": false,
     "metadata": false,
     "name": "#%%\n"
    }
   },
   "outputs": [],
   "source": [
    "#Creating new variable for whether judge held any of the elected positions\n",
    "\n",
    "#These are the variables for the judge holding elected office of some kind     \n",
    "political_positions =  ['Previous Position - house', 'Previous Position - senate',\n",
    "                        'Previous Position - gov','Previous Position - ssenate',\n",
    "                        'Previous Position - shouse','Previous Position - mayor','Previous Position - ccoun']\n",
    "\n",
    "#Creating column of 0's which we will then fill\n",
    "judge_att_data[\"Politician\"] = 0*judge_att_data['Previous Position - house']\n",
    "for position in political_positions:\n",
    "    judge_att_data[\"Politician\"] = np.maximum(judge_att_data[\"Politician\"],judge_att_data[position])\n",
    "    \n",
    "    "
   ]
  },
  {
   "cell_type": "code",
   "execution_count": null,
   "metadata": {
    "pycharm": {
     "is_executing": false,
     "metadata": false,
     "name": "#%%\n"
    }
   },
   "outputs": [],
   "source": []
  },
  {
   "cell_type": "code",
   "execution_count": 9,
   "metadata": {
    "pycharm": {
     "is_executing": false,
     "metadata": false,
     "name": "#%%\n"
    }
   },
   "outputs": [],
   "source": [
    "# Load ideology data\n",
    "#judge_ideo_score = pd.read_excel(os.path.join(dataDir,'Judge Ideology Scores.xlsx'))\n",
    "judge_ideo_score = pd.read_excel('Judge Ideology Scores.xlsx')\n",
    "\n",
    "\n",
    "judge_ideo_score = judge_ideo_score[['judgename','ideology_score']]\n",
    "judge_ideo_score = judge_ideo_score.rename(columns = {'judgename':'Name','ideology_score':'Ideology Score'})\n",
    "\n"
   ]
  },
  {
   "cell_type": "code",
   "execution_count": 10,
   "metadata": {
    "pycharm": {
     "is_executing": false,
     "metadata": false,
     "name": "#%%\n"
    }
   },
   "outputs": [],
   "source": [
    "def get_best_name_match_from_list(name, data_list):\n",
    "    best_match = \"\"\n",
    "    highest_jw = 0\n",
    "    \n",
    "    for potential_match in data_list:\n",
    "        current_score = jellyfish.jaro_winkler(potential_match, name)\n",
    "        if ((current_score > highest_jw) and (current_score > 0.89)):\n",
    "            highest_jw = current_score\n",
    "            best_match = potential_match\n",
    "    \n",
    "    return best_match\n",
    "\n",
    "judge_att_data['Closest Name'] = judge_att_data['Name'].apply(lambda x : get_best_name_match_from_list(x,judge_ideo_score['Name']))\n",
    "judge_att_data = judge_att_data.merge(judge_ideo_score, left_on = 'Closest Name', right_on = 'Name', how = 'left')\n",
    "judge_att_data = judge_att_data.drop(columns = ['Name_y','Closest Name'])\n",
    "judge_att_data = judge_att_data.rename(columns = {'Name_x':'Name'})\n",
    "\n"
   ]
  },
  {
   "cell_type": "code",
   "execution_count": 13,
   "metadata": {
    "pycharm": {
     "is_executing": false,
     "metadata": false,
     "name": "#%%\n"
    }
   },
   "outputs": [],
   "source": [
    "#judge_att_data.to_csv(os.path.join(dataDir,'Judge Attribute and Ideology.csv'), index = False)\n",
    "judge_att_data.to_csv('Judge Attribute and Ideology.csv', index = False)\n"
   ]
  },
  {
   "cell_type": "markdown",
   "metadata": {
    "pycharm": {
     "metadata": false,
     "name": "#%%\n"
    }
   },
   "source": [
    "\n"
   ]
  }
 ],
 "metadata": {
  "kernelspec": {
   "display_name": "Python 3",
   "language": "python",
   "name": "python3"
  },
  "language_info": {
   "codemirror_mode": {
    "name": "ipython",
    "version": 3
   },
   "file_extension": ".py",
   "mimetype": "text/x-python",
   "name": "python",
   "nbconvert_exporter": "python",
   "pygments_lexer": "ipython3",
   "version": "3.6.8"
  },
  "stem_cell": {
   "cell_type": "raw",
   "metadata": {
    "pycharm": {
     "metadata": false
    }
   },
   "source": ""
  }
 },
 "nbformat": 4,
 "nbformat_minor": 1
}
